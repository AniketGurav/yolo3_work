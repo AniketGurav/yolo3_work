{
 "cells": [
  {
   "cell_type": "code",
   "execution_count": 3,
   "metadata": {},
   "outputs": [
    {
     "name": "stdout",
     "output_type": "stream",
     "text": [
      "[name: \"/device:CPU:0\"\n",
      "device_type: \"CPU\"\n",
      "memory_limit: 268435456\n",
      "locality {\n",
      "}\n",
      "incarnation: 4932948616509810365\n",
      "]\n"
     ]
    }
   ],
   "source": [
    "import os\n",
    "os.environ['CUDA_VISIBLE_DEVICES'] = '0'\n",
    "os.environ['TF_FORCE_GPU_ALLOW_GROWTH'] = 'true'\n",
    "from tensorflow.python.client import device_lib\n",
    "print(device_lib.list_local_devices())\n",
    "import shutil\n",
    "import numpy as np\n",
    "import tensorflow as tf\n"
   ]
  },
  {
   "cell_type": "code",
   "execution_count": 4,
   "metadata": {},
   "outputs": [],
   "source": [
    "from yolov3.dataset_1 import Dataset\n"
   ]
  },
  {
   "cell_type": "code",
   "execution_count": 3,
   "metadata": {},
   "outputs": [
    {
     "data": {
      "text/plain": [
       "<function yolov3.yolov4.compute_loss1(pred, conv, label, bboxes, i=0, CLASSES='model_data/coco/coco.names')>"
      ]
     },
     "execution_count": 3,
     "metadata": {},
     "output_type": "execute_result"
    }
   ],
   "source": []
  },
  {
   "cell_type": "code",
   "execution_count": null,
   "metadata": {},
   "outputs": [],
   "source": []
  },
  {
   "cell_type": "code",
   "execution_count": 8,
   "metadata": {},
   "outputs": [
    {
     "data": {
      "text/plain": [
       "tensorflow.python.keras.engine.keras_tensor.KerasTensor"
      ]
     },
     "execution_count": 8,
     "metadata": {},
     "output_type": "execute_result"
    }
   ],
   "source": [
    "\"\"\"\n",
    "https://fixexception.com/tensorflow/the-first-argument-to-layer-call-must-always-be-passed/\n",
    "\"\"\"\n",
    "import tensorflow as tf \n",
    "\n",
    "#Defining model with Layers\n",
    "def model_arch(n_features: int):\n",
    "    i = tf.keras.layers.Input(shape=(n_features,))\n",
    "\n",
    "    hidden_dense = tf.keras.layers.Dense(64)(i)\n",
    "    hidden_dense = tf.keras.layers.BatchNormalization()(hidden_dense)\n",
    "    hidden_dense = tf.keras.layers.Activation(tf.nn.tanh)(hidden_dense)\n",
    "\n",
    "    o = tf.keras.layers.Dense(1)(hidden_dense)\n",
    "    o = tf.keras.layers.BatchNormalization()(o)\n",
    "    o = tf.keras.layers.Activation(\"sigmoid\")(o)\n",
    "\n",
    "    classifier = tf.keras.models.Model(inputs=i, outputs=o)\n",
    "\n",
    "    opt = tf.keras.optimizers.SGD(lr=1e-3, decay=1e-6, momentum=0.9, nesterov=True)\n",
    "    classifier.compile(\n",
    "        loss=\"binary_crossentropy\",\n",
    "        optimizer=opt,\n",
    "        metrics=[\"accuracy\"],\n",
    "    )\n",
    "    \n",
    "    return classifier\n",
    "\n",
    "clf = model_arch(4)\n",
    "\n",
    "input = tf.keras.layers.Input(shape=(4,))\n",
    "model=clf(input) #<--- passing an input\n",
    "\n",
    "type(model)"
   ]
  },
  {
   "cell_type": "code",
   "execution_count": null,
   "metadata": {},
   "outputs": [],
   "source": []
  }
 ],
 "metadata": {
  "kernelspec": {
   "display_name": "yolo_keras2",
   "language": "python",
   "name": "yolo_keras2"
  },
  "language_info": {
   "codemirror_mode": {
    "name": "ipython",
    "version": 3
   },
   "file_extension": ".py",
   "mimetype": "text/x-python",
   "name": "python",
   "nbconvert_exporter": "python",
   "pygments_lexer": "ipython3",
   "version": "3.6.13"
  }
 },
 "nbformat": 4,
 "nbformat_minor": 4
}
