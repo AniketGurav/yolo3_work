{
 "cells": [
  {
   "cell_type": "code",
   "execution_count": null,
   "id": "90c17e20",
   "metadata": {},
   "outputs": [],
   "source": [
    "\"\"\"\n",
    "    this script tries to handle things from script createDataYoloOfficialSplit\n",
    "    \n",
    "    issue is to create train,test,val split for PHOSCNET and YOLO according to'\n",
    "    \n",
    "    IAM official split.\n",
    "    \n",
    "    The script will try to do it.\n",
    "    \n",
    "\n",
    "\"\"\""
   ]
  },
  {
   "cell_type": "code",
   "execution_count": null,
   "id": "6d3bad33",
   "metadata": {},
   "outputs": [],
   "source": []
  },
  {
   "cell_type": "code",
   "execution_count": 1,
   "id": "27409902",
   "metadata": {},
   "outputs": [
    {
     "data": {
      "text/plain": [
       "'{05-2022-26 0}'"
      ]
     },
     "execution_count": 1,
     "metadata": {},
     "output_type": "execute_result"
    }
   ],
   "source": [
    "from tracker import getStamp\n",
    "\n",
    "stamp=getStamp()[:-7]+\" 0}\"\n",
    "stamp\n",
    "\n",
    "#getStamp()\n",
    "\n"
   ]
  },
  {
   "cell_type": "markdown",
   "id": "adca1b84",
   "metadata": {},
   "source": [
    "### FOR PHOSCNET"
   ]
  },
  {
   "cell_type": "code",
   "execution_count": 2,
   "id": "38f32861",
   "metadata": {},
   "outputs": [],
   "source": [
    "import os\n",
    "import cv2\n",
    "import pandas as pd\n",
    "import numpy as np\n",
    "splitFilePath=\"./data/largeWriterIndependentTextLineRecognitionTask\"\n",
    "\n",
    "#os.listdir(splitFilePath)\n",
    "\n",
    "trainFile=os.path.join(splitFilePath, 'trainset.txt')\n",
    "testFile=os.path.join(splitFilePath,'testset.txt')\n",
    "validFile1=os.path.join(splitFilePath,'validationset1.txt')\n",
    "validFile2=os.path.join(splitFilePath,'validationset2.txt')\n"
   ]
  },
  {
   "cell_type": "code",
   "execution_count": 3,
   "id": "179e809e",
   "metadata": {},
   "outputs": [],
   "source": [
    "\"\"\"\n",
    "    below function takes the line number and finds to which original image it \n",
    "    belongs, this image split will help to identify yolo train,test,valid data\n",
    "    \n",
    "\"\"\"\n",
    "def gatherFormInOfficialSplitForYolo(temp):\n",
    "\n",
    "    formsPath=\"/home/aniketag/Documents/phd/yolov5/data/datasets/forms//\"\n",
    "\n",
    "    gatherList=[]\n",
    "    allLines=[]\n",
    "    \n",
    "    for indx,lineDetail in enumerate(temp):\n",
    "\n",
    "        count=0\n",
    "        imgNameIndx=0\n",
    "        lineNoIndx=0\n",
    "        #print(\" lineDetail:\",lineDetail)\n",
    "        for charIndx,ele in enumerate(lineDetail):\n",
    "\n",
    "            if ele==\"-\":\n",
    "                count+=1\n",
    "                \n",
    "            if count==2:\n",
    "                imgNameIndx=charIndx\n",
    "                break\n",
    "            if count==3:\n",
    "                lineNoIndx=charIndx\n",
    "                break\n",
    "\n",
    "        pngName=lineDetail[:imgNameIndx]+\".png\"\n",
    "        pngPath=os.path.join(formsPath,pngName)\n",
    "        \n",
    "        lineName=lineDetail#[:(imgNameIndx+2)]\n",
    "        allLines.append(lineName)\n",
    "        \n",
    "        if os.path.isfile(pngPath):\n",
    "            gatherList.append(pngName)\n",
    "\n",
    "        #print(\" check File:\",os.path.isfile(pngPath))\n",
    "    \n",
    "    gatherList=list(set(gatherList))\n",
    "    allLines=list(set(allLines))\n",
    "    print(\" total png gathered:\",len(gatherList),\" original lines:\",len(temp),\"unique lines:\",len(allLines))    \n",
    "\n",
    "    return gatherList,allLines    \n",
    "\n"
   ]
  },
  {
   "cell_type": "code",
   "execution_count": 4,
   "id": "c1a7d204",
   "metadata": {},
   "outputs": [
    {
     "name": "stdout",
     "output_type": "stream",
     "text": [
      " total png gathered: 747  original lines: 6161 unique lines: 6161\n",
      " train images len: 747\n",
      " trainLines len: 6161\n",
      "\n",
      " total png gathered: 232  original lines: 1861 unique lines: 1861\n",
      " test images len: 232\n",
      " test lines len: 1861\n",
      "\n",
      " total png gathered: 105  original lines: 900 unique lines: 900\n",
      " total png gathered: 115  original lines: 940 unique lines: 940\n",
      " valid images len: 220\n",
      " valLines line len: 1840\n",
      "\n"
     ]
    }
   ],
   "source": [
    "with open(trainFile) as f1:\n",
    "    trainSet=f1.readlines()\n",
    "\n",
    "trainList,trainLines=gatherFormInOfficialSplitForYolo(trainSet)\n",
    "\n",
    "print(\" train images len:\",len(trainList))\n",
    "print(\" trainLines len:\",len(trainLines))\n",
    "print(\"\")\n",
    "\n",
    "with open(testFile) as f1:\n",
    "    testSet=f1.readlines()\n",
    "\n",
    "testList,testLines=gatherFormInOfficialSplitForYolo(testSet)\n",
    "    \n",
    "print(\" test images len:\",len(testList))\n",
    "print(\" test lines len:\",len(testLines))\n",
    "print(\"\")\n",
    "\n",
    "with open(validFile1) as f1:\n",
    "    validSet1=f1.readlines()\n",
    "\n",
    "validList1,valLines1=gatherFormInOfficialSplitForYolo(validSet1)\n",
    "\n",
    "with open(validFile2) as f1:\n",
    "    validSet2=f1.readlines()\n",
    "\n",
    "validList2,valLines2=gatherFormInOfficialSplitForYolo(validSet2)\n",
    "    \n",
    "validList=validList1+validList2\n",
    "valLines=valLines1+valLines2\n",
    "\n",
    "print(\" valid images len:\",len(validList))\n",
    "print(\" valLines line len:\",len(valLines))\n",
    "print(\"\")\n",
    "\n"
   ]
  },
  {
   "cell_type": "code",
   "execution_count": 5,
   "id": "2d3788ff",
   "metadata": {},
   "outputs": [
    {
     "name": "stdout",
     "output_type": "stream",
     "text": [
      "\n",
      "\t unique images in IAM: 1539\n",
      "\n",
      "\t df: (115187, 14)\n",
      "\n",
      "\t testDF (IAM lines): (967, 1)\n"
     ]
    }
   ],
   "source": [
    "\"\"\"\n",
    "testDF=pd.DataFrame(columns=[\"imageName\"])\n",
    "ls=trainList+validList\n",
    "\n",
    "for indx,imgName in enumerate(ls):\n",
    "    \n",
    "    testDF.loc[indx,\"imageName\"]=imgName\n",
    "\n",
    "testDF.to_csv(\"./iamHandOfficial_train_val.csv\",index=False)\n",
    "\"\"\"\n",
    "testDF=pd.read_csv(\"./data/iamHandOfficial_train_val.csv\")\n",
    "df=pd.read_csv(\"./data/data_14_april.csv\")\n",
    "unqImages=set(df.image_name)\n",
    "\n",
    "print(\"\\n\\t unique images in IAM:\",len(unqImages))\n",
    "print(\"\\n\\t df:\",df.shape)\n",
    "print(\"\\n\\t testDF (IAM lines):\",testDF.shape)"
   ]
  },
  {
   "cell_type": "code",
   "execution_count": 6,
   "id": "4ec317a1",
   "metadata": {},
   "outputs": [
    {
     "data": {
      "text/html": [
       "<div>\n",
       "<style scoped>\n",
       "    .dataframe tbody tr th:only-of-type {\n",
       "        vertical-align: middle;\n",
       "    }\n",
       "\n",
       "    .dataframe tbody tr th {\n",
       "        vertical-align: top;\n",
       "    }\n",
       "\n",
       "    .dataframe thead th {\n",
       "        text-align: right;\n",
       "    }\n",
       "</style>\n",
       "<table border=\"1\" class=\"dataframe\">\n",
       "  <thead>\n",
       "    <tr style=\"text-align: right;\">\n",
       "      <th></th>\n",
       "      <th>image_name</th>\n",
       "      <th>class</th>\n",
       "      <th>width</th>\n",
       "      <th>height</th>\n",
       "      <th>org_x1</th>\n",
       "      <th>org_y1</th>\n",
       "      <th>org_x2</th>\n",
       "      <th>org_y2</th>\n",
       "      <th>text</th>\n",
       "      <th>cropName</th>\n",
       "      <th>x</th>\n",
       "      <th>y</th>\n",
       "      <th>w</th>\n",
       "      <th>h</th>\n",
       "    </tr>\n",
       "  </thead>\n",
       "  <tbody>\n",
       "    <tr>\n",
       "      <th>0</th>\n",
       "      <td>g06-031n.png</td>\n",
       "      <td>1</td>\n",
       "      <td>2479</td>\n",
       "      <td>3542</td>\n",
       "      <td>435</td>\n",
       "      <td>678</td>\n",
       "      <td>450</td>\n",
       "      <td>697</td>\n",
       "      <td>'</td>\n",
       "      <td>g06-031n-00-00</td>\n",
       "      <td>0.18</td>\n",
       "      <td>0.19</td>\n",
       "      <td>0.01</td>\n",
       "      <td>0.01</td>\n",
       "    </tr>\n",
       "    <tr>\n",
       "      <th>1</th>\n",
       "      <td>g06-031n.png</td>\n",
       "      <td>1</td>\n",
       "      <td>2479</td>\n",
       "      <td>3542</td>\n",
       "      <td>425</td>\n",
       "      <td>683</td>\n",
       "      <td>663</td>\n",
       "      <td>777</td>\n",
       "      <td>What</td>\n",
       "      <td>g06-031n-00-01</td>\n",
       "      <td>0.22</td>\n",
       "      <td>0.21</td>\n",
       "      <td>0.10</td>\n",
       "      <td>0.03</td>\n",
       "    </tr>\n",
       "    <tr>\n",
       "      <th>2</th>\n",
       "      <td>g06-031n.png</td>\n",
       "      <td>1</td>\n",
       "      <td>2479</td>\n",
       "      <td>3542</td>\n",
       "      <td>640</td>\n",
       "      <td>726</td>\n",
       "      <td>696</td>\n",
       "      <td>779</td>\n",
       "      <td>a</td>\n",
       "      <td>g06-031n-00-02</td>\n",
       "      <td>0.27</td>\n",
       "      <td>0.21</td>\n",
       "      <td>0.02</td>\n",
       "      <td>0.01</td>\n",
       "    </tr>\n",
       "    <tr>\n",
       "      <th>3</th>\n",
       "      <td>g06-031n.png</td>\n",
       "      <td>1</td>\n",
       "      <td>2479</td>\n",
       "      <td>3542</td>\n",
       "      <td>727</td>\n",
       "      <td>685</td>\n",
       "      <td>1128</td>\n",
       "      <td>820</td>\n",
       "      <td>frightful</td>\n",
       "      <td>g06-031n-00-03</td>\n",
       "      <td>0.37</td>\n",
       "      <td>0.21</td>\n",
       "      <td>0.16</td>\n",
       "      <td>0.04</td>\n",
       "    </tr>\n",
       "    <tr>\n",
       "      <th>4</th>\n",
       "      <td>g06-031n.png</td>\n",
       "      <td>1</td>\n",
       "      <td>2479</td>\n",
       "      <td>3542</td>\n",
       "      <td>1129</td>\n",
       "      <td>692</td>\n",
       "      <td>1365</td>\n",
       "      <td>779</td>\n",
       "      <td>event</td>\n",
       "      <td>g06-031n-00-04</td>\n",
       "      <td>0.50</td>\n",
       "      <td>0.21</td>\n",
       "      <td>0.10</td>\n",
       "      <td>0.02</td>\n",
       "    </tr>\n",
       "  </tbody>\n",
       "</table>\n",
       "</div>"
      ],
      "text/plain": [
       "     image_name  class  width  height  org_x1  org_y1  org_x2  org_y2  \\\n",
       "0  g06-031n.png      1   2479    3542     435     678     450     697   \n",
       "1  g06-031n.png      1   2479    3542     425     683     663     777   \n",
       "2  g06-031n.png      1   2479    3542     640     726     696     779   \n",
       "3  g06-031n.png      1   2479    3542     727     685    1128     820   \n",
       "4  g06-031n.png      1   2479    3542    1129     692    1365     779   \n",
       "\n",
       "        text        cropName     x     y     w     h  \n",
       "0          '  g06-031n-00-00  0.18  0.19  0.01  0.01  \n",
       "1       What  g06-031n-00-01  0.22  0.21  0.10  0.03  \n",
       "2          a  g06-031n-00-02  0.27  0.21  0.02  0.01  \n",
       "3  frightful  g06-031n-00-03  0.37  0.21  0.16  0.04  \n",
       "4      event  g06-031n-00-04  0.50  0.21  0.10  0.02  "
      ]
     },
     "execution_count": 6,
     "metadata": {},
     "output_type": "execute_result"
    }
   ],
   "source": [
    "#testDF.head(5),\n",
    "df.head(5)"
   ]
  },
  {
   "cell_type": "code",
   "execution_count": 22,
   "id": "bcade49e",
   "metadata": {},
   "outputs": [
    {
     "data": {
      "text/plain": [
       "'/home/aniketag/Documents/phd/TensorFlow-2.x-YOLOv3'"
      ]
     },
     "execution_count": 22,
     "metadata": {},
     "output_type": "execute_result"
    }
   ],
   "source": [
    "iamOffTrainCrops=\"./data1/iamOffTrainCrops\"+stamp\n",
    "\n",
    "if not os.path.isdir(iamOffTrainCrops):\n",
    "    os.mkdir(iamOffTrainCrops)\n",
    "\n",
    "iamOffTestCrops=\"./data1/iamOffTestCrops\"+stamp\n",
    "if not os.path.isdir(iamOffTestCrops):\n",
    "    os.mkdir(iamOffTestCrops)\n",
    "\n",
    "iamOffValCrops=\"./data1/iamOffValCrops\"+stamp\n",
    "if not os.path.isdir(iamOffValCrops):\n",
    "    os.mkdir(iamOffValCrops)\n",
    "\n",
    "os.getcwd()"
   ]
  },
  {
   "cell_type": "code",
   "execution_count": 23,
   "id": "c1710a3f",
   "metadata": {},
   "outputs": [
    {
     "data": {
      "text/plain": [
       "'./data1/iamOffTrainCrops{05-2022-26 0}'"
      ]
     },
     "execution_count": 23,
     "metadata": {},
     "output_type": "execute_result"
    }
   ],
   "source": [
    "os.path.isdir(iamOffTrainCrops),len(os.listdir(iamOffTrainCrops))\n",
    "iamOffTrainCrops\n",
    "#iamOffValCrops"
   ]
  },
  {
   "cell_type": "code",
   "execution_count": 24,
   "id": "f67689a6",
   "metadata": {},
   "outputs": [
    {
     "name": "stdout",
     "output_type": "stream",
     "text": [
      "imgNo: 0\n",
      " trainCropCount: 0  testCropCount: 0  valCropCount: 0  notFound: 0\n",
      "imgNo: 100\n",
      " trainCropCount: 3405  testCropCount: 1042  valCropCount: 897  notFound: 2082\n",
      "imgNo: 200\n",
      " trainCropCount: 6885  testCropCount: 1649  valCropCount: 2192  notFound: 4153\n",
      "imgNo: 300\n",
      " trainCropCount: 10385  testCropCount: 2763  valCropCount: 3468  notFound: 5750\n",
      "imgNo: 400\n",
      " trainCropCount: 13875  testCropCount: 4336  valCropCount: 4558  notFound: 7127\n",
      "imgNo: 500\n",
      " trainCropCount: 17691  testCropCount: 5392  valCropCount: 5427  notFound: 8954\n",
      "imgNo: 600\n",
      " trainCropCount: 21203  testCropCount: 6505  valCropCount: 6265  notFound: 10996\n",
      "imgNo: 700\n",
      " trainCropCount: 24516  testCropCount: 7966  valCropCount: 7349  notFound: 12595\n",
      "imgNo: 800\n",
      " trainCropCount: 27581  testCropCount: 8892  valCropCount: 8551  notFound: 14788\n",
      "imgNo: 900\n",
      " trainCropCount: 30989  testCropCount: 9964  valCropCount: 9507  notFound: 16773\n",
      "imgNo: 1000\n",
      " trainCropCount: 34614  testCropCount: 10899  valCropCount: 10973  notFound: 18381\n",
      "imgNo: 1100\n",
      " trainCropCount: 38558  testCropCount: 12337  valCropCount: 11809  notFound: 19697\n",
      "imgNo: 1200\n",
      " trainCropCount: 41802  testCropCount: 13880  valCropCount: 12997  notFound: 21067\n",
      "imgNo: 1300\n",
      " trainCropCount: 45407  testCropCount: 14682  valCropCount: 14023  notFound: 22997\n",
      "imgNo: 1400\n",
      " trainCropCount: 49046  testCropCount: 16080  valCropCount: 14944  notFound: 24552\n",
      "imgNo: 1500\n",
      " trainCropCount: 52383  testCropCount: 16984  valCropCount: 16026  notFound: 26699\n",
      " trainCropCount: 53806  testCropCount: 17584  valCropCount: 16450  notFound: 27347  stamp: {05-2022-26 0}\n"
     ]
    }
   ],
   "source": [
    "allImagesPath=\"/home/aniketag/Documents/phd/yolov5/data/datasets/forms//\"\n",
    "allImages=os.listdir(allImagesPath)\n",
    "images_num=len(allImages)\n",
    "images_path = \"./data/datasets/forms/\" \n",
    "\n",
    "trainDF=pd.DataFrame(columns=[\"cropName\"])\n",
    "testDF=pd.DataFrame(columns=[\"cropName\"])\n",
    "valDF=pd.DataFrame(columns=[\"cropName\"])\n",
    "\n",
    "trainCropCount,testCropCount,valCropCount,notFound=0,0,0,0\n",
    "\n",
    "for imgNo,orgImgName in enumerate(unqImages):\n",
    "    \n",
    "    \"\"\"\n",
    "            filter rows specific to image imgName and then create a crops\n",
    "    \"\"\"\n",
    "    \n",
    "    temp=df[df[\"image_name\"]==orgImgName]\n",
    "    \n",
    "    imgPath=os.path.join(allImagesPath,orgImgName)\n",
    "    image=cv2.imread(imgPath)\n",
    "    #print(\" image=\",image.shape,\" temp:\",temp.shape)\n",
    "    \n",
    "    \"\"\"\n",
    "    if imgNo>5:\n",
    "        break\n",
    "    \"\"\"\n",
    "    \n",
    "    if imgNo%100==0:\n",
    "        print(\"imgNo:\",imgNo)\n",
    "        print(\" trainCropCount:\",trainCropCount,\" testCropCount:\",testCropCount,\" valCropCount:\",valCropCount,\" notFound:\",notFound)  \n",
    "\n",
    "    \n",
    "    for rowNo,tempRow in temp.iterrows():\n",
    "        \n",
    "        lineName=\"\"\n",
    "        lineName=tempRow.cropName[:-3]+\"\\n\"\n",
    "        text=tempRow.text\n",
    "        cropName=tempRow.image_name+\".png\" \n",
    "        destPath=\"\"\n",
    "        #print(\"cropName=\",cropName,\" testImgName:\",testImgName)\n",
    "        \n",
    "        \"\"\"\n",
    "        if testImgName[:-4] not in cropName:\n",
    "            continue\n",
    "        \"\"\"\n",
    "        \n",
    "        cor=[tempRow.org_x1,tempRow.org_y1,tempRow.org_x2,tempRow.org_y2]\n",
    "        x1,y1,x2,y2=int(cor[0]),int(cor[1]),int(cor[2]),int(cor[3])\n",
    "        crop=image[y1:y2,x1-25:x2+25]\n",
    "        \n",
    "        #print(\" crop:\",crop.shape,\" lineName:\",lineName)\n",
    "        \n",
    "        if lineName in trainLines:\n",
    "            destPath=iamOffTrainCrops\n",
    "            trainCropCount+=1\n",
    "            \n",
    "        elif lineName in valLines:\n",
    "            \n",
    "            destPath=iamOffValCrops\n",
    "            valCropCount+=1\n",
    "            \n",
    "        elif lineName in testLines:\n",
    "            destPath=iamOffTestCrops\n",
    "            testCropCount+=1\n",
    "        else:\n",
    "            notFound+=1\n",
    "        \n",
    "        if destPath:\n",
    "            newCropName=orgImgName+\"_\"+str(rowNo)+\"_\"+str(cor)+\"_\"+str(text)+\"_\"+stamp+\".png\"\n",
    "            #print(\"newCropName:\",newCropName)\n",
    "            newCropPath=os.path.join(destPath,newCropName)\n",
    "\n",
    "            cv2.imwrite(newCropPath,crop)\n",
    "        \n",
    "        #cropWritePath=os.path.join(cropPath,cropName)\n",
    "        #print(\"cropWritePath=\",cropWritePath,crop)\n",
    "        #cv2.imwrite(cropWritePath,crop)\n",
    "\n",
    "        \n",
    "print(\" trainCropCount:\",trainCropCount,\" testCropCount:\",testCropCount,\" valCropCount:\",valCropCount,\" notFound:\",notFound,\" stamp:\",stamp)  \n",
    "\n"
   ]
  },
  {
   "cell_type": "code",
   "execution_count": 10,
   "id": "8b1935d0",
   "metadata": {},
   "outputs": [
    {
     "data": {
      "text/plain": [
       "'./data/iamOffTrainCrops/b04-004.png_39213_[996, 2555, 1410, 2654]_scapegoat_{05-2022-26 0}.png'"
      ]
     },
     "execution_count": 10,
     "metadata": {},
     "output_type": "execute_result"
    }
   ],
   "source": [
    "#iamOffTrainCrops\n",
    "newCropPath"
   ]
  },
  {
   "cell_type": "code",
   "execution_count": 9,
   "id": "bc549fd4",
   "metadata": {},
   "outputs": [
    {
     "data": {
      "text/plain": [
       "(99, 464, 3)"
      ]
     },
     "execution_count": 9,
     "metadata": {},
     "output_type": "execute_result"
    }
   ],
   "source": [
    "\n",
    "crop.shape\n",
    "\n",
    "cv2.imwrite(newCropPath,crop)\n"
   ]
  },
  {
   "cell_type": "markdown",
   "id": "f89480d1",
   "metadata": {},
   "source": [
    "### FOR yolo"
   ]
  },
  {
   "cell_type": "code",
   "execution_count": null,
   "id": "6a0f699a",
   "metadata": {},
   "outputs": [],
   "source": []
  }
 ],
 "metadata": {
  "kernelspec": {
   "display_name": "Python 3 (ipykernel)",
   "language": "python",
   "name": "python3"
  },
  "language_info": {
   "codemirror_mode": {
    "name": "ipython",
    "version": 3
   },
   "file_extension": ".py",
   "mimetype": "text/x-python",
   "name": "python",
   "nbconvert_exporter": "python",
   "pygments_lexer": "ipython3",
   "version": "3.8.12"
  }
 },
 "nbformat": 4,
 "nbformat_minor": 5
}
